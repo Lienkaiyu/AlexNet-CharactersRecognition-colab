{
  "nbformat": 4,
  "nbformat_minor": 0,
  "metadata": {
    "colab": {
      "provenance": []
    },
    "kernelspec": {
      "name": "python3",
      "display_name": "Python 3"
    },
    "language_info": {
      "name": "python"
    },
    "accelerator": "GPU",
    "gpuClass": "standard"
  },
  "cells": [
    {
      "cell_type": "markdown",
      "source": [
        "Upgrade Package"
      ],
      "metadata": {
        "id": "8sjGdUsf90f0"
      }
    },
    {
      "cell_type": "code",
      "source": [
        "!pip install tensorflow --upgrade\n",
        "!pip install keras --upgrade"
      ],
      "metadata": {
        "colab": {
          "base_uri": "https://localhost:8080/"
        },
        "id": "Njkt-l7sfeqz",
        "outputId": "7762eabc-a324-449d-b23b-cc57e639b125"
      },
      "execution_count": 1,
      "outputs": [
        {
          "output_type": "stream",
          "name": "stdout",
          "text": [
            "Looking in indexes: https://pypi.org/simple, https://us-python.pkg.dev/colab-wheels/public/simple/\n",
            "Requirement already satisfied: tensorflow in /usr/local/lib/python3.8/dist-packages (2.9.2)\n",
            "Collecting tensorflow\n",
            "  Downloading tensorflow-2.11.0-cp38-cp38-manylinux_2_17_x86_64.manylinux2014_x86_64.whl (588.3 MB)\n",
            "\u001b[K     |████████████████████████████████| 588.3 MB 20 kB/s \n",
            "\u001b[?25hRequirement already satisfied: numpy>=1.20 in /usr/local/lib/python3.8/dist-packages (from tensorflow) (1.21.6)\n",
            "Requirement already satisfied: typing-extensions>=3.6.6 in /usr/local/lib/python3.8/dist-packages (from tensorflow) (4.1.1)\n",
            "Requirement already satisfied: setuptools in /usr/local/lib/python3.8/dist-packages (from tensorflow) (57.4.0)\n",
            "Requirement already satisfied: packaging in /usr/local/lib/python3.8/dist-packages (from tensorflow) (21.3)\n",
            "Collecting tensorflow-estimator<2.12,>=2.11.0\n",
            "  Downloading tensorflow_estimator-2.11.0-py2.py3-none-any.whl (439 kB)\n",
            "\u001b[K     |████████████████████████████████| 439 kB 11.5 MB/s \n",
            "\u001b[?25hRequirement already satisfied: grpcio<2.0,>=1.24.3 in /usr/local/lib/python3.8/dist-packages (from tensorflow) (1.50.0)\n",
            "Requirement already satisfied: protobuf<3.20,>=3.9.2 in /usr/local/lib/python3.8/dist-packages (from tensorflow) (3.19.6)\n",
            "Requirement already satisfied: six>=1.12.0 in /usr/local/lib/python3.8/dist-packages (from tensorflow) (1.15.0)\n",
            "Requirement already satisfied: wrapt>=1.11.0 in /usr/local/lib/python3.8/dist-packages (from tensorflow) (1.14.1)\n",
            "Requirement already satisfied: h5py>=2.9.0 in /usr/local/lib/python3.8/dist-packages (from tensorflow) (3.1.0)\n",
            "Collecting flatbuffers>=2.0\n",
            "  Downloading flatbuffers-22.11.23-py2.py3-none-any.whl (26 kB)\n",
            "Collecting keras<2.12,>=2.11.0\n",
            "  Downloading keras-2.11.0-py2.py3-none-any.whl (1.7 MB)\n",
            "\u001b[K     |████████████████████████████████| 1.7 MB 62.2 MB/s \n",
            "\u001b[?25hRequirement already satisfied: absl-py>=1.0.0 in /usr/local/lib/python3.8/dist-packages (from tensorflow) (1.3.0)\n",
            "Requirement already satisfied: google-pasta>=0.1.1 in /usr/local/lib/python3.8/dist-packages (from tensorflow) (0.2.0)\n",
            "Collecting tensorboard<2.12,>=2.11\n",
            "  Downloading tensorboard-2.11.0-py3-none-any.whl (6.0 MB)\n",
            "\u001b[K     |████████████████████████████████| 6.0 MB 76.6 MB/s \n",
            "\u001b[?25hRequirement already satisfied: astunparse>=1.6.0 in /usr/local/lib/python3.8/dist-packages (from tensorflow) (1.6.3)\n",
            "Requirement already satisfied: gast<=0.4.0,>=0.2.1 in /usr/local/lib/python3.8/dist-packages (from tensorflow) (0.4.0)\n",
            "Requirement already satisfied: tensorflow-io-gcs-filesystem>=0.23.1 in /usr/local/lib/python3.8/dist-packages (from tensorflow) (0.28.0)\n",
            "Requirement already satisfied: libclang>=13.0.0 in /usr/local/lib/python3.8/dist-packages (from tensorflow) (14.0.6)\n",
            "Requirement already satisfied: opt-einsum>=2.3.2 in /usr/local/lib/python3.8/dist-packages (from tensorflow) (3.3.0)\n",
            "Requirement already satisfied: termcolor>=1.1.0 in /usr/local/lib/python3.8/dist-packages (from tensorflow) (2.1.1)\n",
            "Requirement already satisfied: wheel<1.0,>=0.23.0 in /usr/local/lib/python3.8/dist-packages (from astunparse>=1.6.0->tensorflow) (0.38.4)\n",
            "Requirement already satisfied: google-auth-oauthlib<0.5,>=0.4.1 in /usr/local/lib/python3.8/dist-packages (from tensorboard<2.12,>=2.11->tensorflow) (0.4.6)\n",
            "Requirement already satisfied: google-auth<3,>=1.6.3 in /usr/local/lib/python3.8/dist-packages (from tensorboard<2.12,>=2.11->tensorflow) (2.14.1)\n",
            "Requirement already satisfied: tensorboard-plugin-wit>=1.6.0 in /usr/local/lib/python3.8/dist-packages (from tensorboard<2.12,>=2.11->tensorflow) (1.8.1)\n",
            "Requirement already satisfied: werkzeug>=1.0.1 in /usr/local/lib/python3.8/dist-packages (from tensorboard<2.12,>=2.11->tensorflow) (1.0.1)\n",
            "Requirement already satisfied: tensorboard-data-server<0.7.0,>=0.6.0 in /usr/local/lib/python3.8/dist-packages (from tensorboard<2.12,>=2.11->tensorflow) (0.6.1)\n",
            "Requirement already satisfied: markdown>=2.6.8 in /usr/local/lib/python3.8/dist-packages (from tensorboard<2.12,>=2.11->tensorflow) (3.4.1)\n",
            "Requirement already satisfied: requests<3,>=2.21.0 in /usr/local/lib/python3.8/dist-packages (from tensorboard<2.12,>=2.11->tensorflow) (2.23.0)\n",
            "Requirement already satisfied: cachetools<6.0,>=2.0.0 in /usr/local/lib/python3.8/dist-packages (from google-auth<3,>=1.6.3->tensorboard<2.12,>=2.11->tensorflow) (5.2.0)\n",
            "Requirement already satisfied: pyasn1-modules>=0.2.1 in /usr/local/lib/python3.8/dist-packages (from google-auth<3,>=1.6.3->tensorboard<2.12,>=2.11->tensorflow) (0.2.8)\n",
            "Requirement already satisfied: rsa<5,>=3.1.4 in /usr/local/lib/python3.8/dist-packages (from google-auth<3,>=1.6.3->tensorboard<2.12,>=2.11->tensorflow) (4.9)\n",
            "Requirement already satisfied: requests-oauthlib>=0.7.0 in /usr/local/lib/python3.8/dist-packages (from google-auth-oauthlib<0.5,>=0.4.1->tensorboard<2.12,>=2.11->tensorflow) (1.3.1)\n",
            "Requirement already satisfied: importlib-metadata>=4.4 in /usr/local/lib/python3.8/dist-packages (from markdown>=2.6.8->tensorboard<2.12,>=2.11->tensorflow) (4.13.0)\n",
            "Requirement already satisfied: zipp>=0.5 in /usr/local/lib/python3.8/dist-packages (from importlib-metadata>=4.4->markdown>=2.6.8->tensorboard<2.12,>=2.11->tensorflow) (3.10.0)\n",
            "Requirement already satisfied: pyasn1<0.5.0,>=0.4.6 in /usr/local/lib/python3.8/dist-packages (from pyasn1-modules>=0.2.1->google-auth<3,>=1.6.3->tensorboard<2.12,>=2.11->tensorflow) (0.4.8)\n",
            "Requirement already satisfied: chardet<4,>=3.0.2 in /usr/local/lib/python3.8/dist-packages (from requests<3,>=2.21.0->tensorboard<2.12,>=2.11->tensorflow) (3.0.4)\n",
            "Requirement already satisfied: idna<3,>=2.5 in /usr/local/lib/python3.8/dist-packages (from requests<3,>=2.21.0->tensorboard<2.12,>=2.11->tensorflow) (2.10)\n",
            "Requirement already satisfied: urllib3!=1.25.0,!=1.25.1,<1.26,>=1.21.1 in /usr/local/lib/python3.8/dist-packages (from requests<3,>=2.21.0->tensorboard<2.12,>=2.11->tensorflow) (1.24.3)\n",
            "Requirement already satisfied: certifi>=2017.4.17 in /usr/local/lib/python3.8/dist-packages (from requests<3,>=2.21.0->tensorboard<2.12,>=2.11->tensorflow) (2022.9.24)\n",
            "Requirement already satisfied: oauthlib>=3.0.0 in /usr/local/lib/python3.8/dist-packages (from requests-oauthlib>=0.7.0->google-auth-oauthlib<0.5,>=0.4.1->tensorboard<2.12,>=2.11->tensorflow) (3.2.2)\n",
            "Requirement already satisfied: pyparsing!=3.0.5,>=2.0.2 in /usr/local/lib/python3.8/dist-packages (from packaging->tensorflow) (3.0.9)\n",
            "Installing collected packages: tensorflow-estimator, tensorboard, keras, flatbuffers, tensorflow\n",
            "  Attempting uninstall: tensorflow-estimator\n",
            "    Found existing installation: tensorflow-estimator 2.9.0\n",
            "    Uninstalling tensorflow-estimator-2.9.0:\n",
            "      Successfully uninstalled tensorflow-estimator-2.9.0\n",
            "  Attempting uninstall: tensorboard\n",
            "    Found existing installation: tensorboard 2.9.1\n",
            "    Uninstalling tensorboard-2.9.1:\n",
            "      Successfully uninstalled tensorboard-2.9.1\n",
            "  Attempting uninstall: keras\n",
            "    Found existing installation: keras 2.9.0\n",
            "    Uninstalling keras-2.9.0:\n",
            "      Successfully uninstalled keras-2.9.0\n",
            "  Attempting uninstall: flatbuffers\n",
            "    Found existing installation: flatbuffers 1.12\n",
            "    Uninstalling flatbuffers-1.12:\n",
            "      Successfully uninstalled flatbuffers-1.12\n",
            "  Attempting uninstall: tensorflow\n",
            "    Found existing installation: tensorflow 2.9.2\n",
            "    Uninstalling tensorflow-2.9.2:\n",
            "      Successfully uninstalled tensorflow-2.9.2\n",
            "Successfully installed flatbuffers-22.11.23 keras-2.11.0 tensorboard-2.11.0 tensorflow-2.11.0 tensorflow-estimator-2.11.0\n",
            "Looking in indexes: https://pypi.org/simple, https://us-python.pkg.dev/colab-wheels/public/simple/\n",
            "Requirement already satisfied: keras in /usr/local/lib/python3.8/dist-packages (2.11.0)\n"
          ]
        }
      ]
    },
    {
      "cell_type": "markdown",
      "source": [
        "**Is good idea to Restart Runtime after updated packages**"
      ],
      "metadata": {
        "id": "JqDe9Wfd94UF"
      }
    },
    {
      "cell_type": "markdown",
      "source": [
        "# **Training**"
      ],
      "metadata": {
        "id": "x4W7U9jG-gMv"
      }
    },
    {
      "cell_type": "code",
      "execution_count": 2,
      "metadata": {
        "id": "JgVK7UbtePWH"
      },
      "outputs": [],
      "source": [
        "from keras.models import Sequential, Model\n",
        "#from keras.layers.normalization import BatchNormalization\n",
        "from tensorflow.keras.layers import BatchNormalization\n",
        "\n",
        "from keras.layers.core import Activation\n",
        "from keras.layers.core import Flatten\n",
        "from keras.layers.core import Dropout\n",
        "from keras.layers.core import Dense\n",
        "from keras.layers import Conv2D, MaxPooling2D\n",
        "from keras import layers\n",
        "\n",
        "def model(num_classes, input_shape):\n",
        "    model = Sequential()\n",
        "\n",
        "    # 1st Convolutional Layer\n",
        "    model.add(Conv2D(filters=96, input_shape=input_shape, kernel_size=(11,11), strides=(4,4), padding='valid'))\n",
        "    model.add(Activation('relu'))\n",
        "    # Max Pooling\n",
        "    model.add(MaxPooling2D(pool_size=(3,3), strides=(2,2), padding='valid'))\n",
        "\n",
        "    # 2nd Convolutional Layer\n",
        "    model.add(Conv2D(filters=256, kernel_size=(5,5), strides=(1,1), padding='same'))\n",
        "    model.add(Activation('relu'))\n",
        "    # Max Pooling\n",
        "    model.add(MaxPooling2D(pool_size=(3,3), strides=(2,2), padding='valid'))\n",
        "\n",
        "    # 3rd Convolutional Layer\n",
        "    model.add(Conv2D(filters=384, kernel_size=(3,3), strides=(1,1), padding='same'))\n",
        "    model.add(Activation('relu'))\n",
        "\n",
        "    # 4th Convolutional Layer\n",
        "    model.add(Conv2D(filters=384, kernel_size=(3,3), strides=(1,1), padding='same'))\n",
        "    model.add(Activation('relu'))\n",
        "\n",
        "    # 5th Convolutional Layer\n",
        "    model.add(Conv2D(filters=256, kernel_size=(3,3), strides=(1,1), padding='same'))\n",
        "    model.add(Activation('relu'))\n",
        "    # Max Pooling\n",
        "    model.add(MaxPooling2D(pool_size=(3,3), strides=(2,2), padding='valid'))\n",
        "\n",
        "    # Passing it to a Fully Connected layer\n",
        "    model.add(Flatten())\n",
        "    # 1st Fully Connected Layer\n",
        "    model.add(Dense(4096))\n",
        "    model.add(Activation('relu'))\n",
        "    # Add Dropout to prevent overfitting\n",
        "    model.add(Dropout(0.5))\n",
        "\n",
        "    # 2nd Fully Connected Layer\n",
        "    model.add(Dense(4096))\n",
        "    model.add(Activation('relu'))\n",
        "    # Add Dropout to prevent overfitting\n",
        "    model.add(Dropout(0.5))\n",
        "\n",
        "    # Output Layer\n",
        "    model.add(Dense(num_classes))\n",
        "    model.add(Activation('softmax'))\n",
        "\n",
        "    return model"
      ]
    },
    {
      "cell_type": "code",
      "source": [
        "from keras.preprocessing.image import ImageDataGenerator\n",
        "from keras.optimizers import Adam\n",
        "from keras.callbacks import ReduceLROnPlateau\n",
        "import os\n",
        "\n",
        "# Define constants\n",
        "DATASET_PATH = './English/Fnt/'\n",
        "MODEL_PATH = '.'\n",
        "BATCH_SIZE = 128\n",
        "EPOCHS = 20\n",
        "TARGET_WIDTH = 128\n",
        "TARGET_HEIGHT = 128\n",
        "TARGET_DEPTH = 3"
      ],
      "metadata": {
        "id": "HHCp5LeyeSZd"
      },
      "execution_count": 3,
      "outputs": []
    },
    {
      "cell_type": "code",
      "source": [
        "!wget https://raw.githubusercontent.com/Lienkaiyu/AlexNet-CharactersRecognition-colab/master/English.tar.gz\n",
        "!tar -xf English.tar.gz"
      ],
      "metadata": {
        "id": "9QGAjamviUXi",
        "colab": {
          "base_uri": "https://localhost:8080/"
        },
        "outputId": "ec863173-436e-41d6-bfd1-ab7e5a35ac62"
      },
      "execution_count": 4,
      "outputs": [
        {
          "output_type": "stream",
          "name": "stdout",
          "text": [
            "--2022-12-04 12:11:05--  https://raw.githubusercontent.com/Lienkaiyu/AlexNet-CharactersRecognition-colab/master/English.tar.gz\n",
            "Resolving raw.githubusercontent.com (raw.githubusercontent.com)... 185.199.111.133, 185.199.109.133, 185.199.110.133, ...\n",
            "Connecting to raw.githubusercontent.com (raw.githubusercontent.com)|185.199.111.133|:443... connected.\n",
            "HTTP request sent, awaiting response... 200 OK\n",
            "Length: 32855155 (31M) [application/octet-stream]\n",
            "Saving to: ‘English.tar.gz’\n",
            "\n",
            "English.tar.gz      100%[===================>]  31.33M  --.-KB/s    in 0.1s    \n",
            "\n",
            "2022-12-04 12:11:05 (256 MB/s) - ‘English.tar.gz’ saved [32855155/32855155]\n",
            "\n"
          ]
        }
      ]
    },
    {
      "cell_type": "code",
      "source": [
        "# Set up the data generator to flow data from disk\n",
        "print(\"[INFO] Setting up Data Generator...\")\n",
        "data_gen = ImageDataGenerator(validation_split=0.2, rescale=1./255)\n",
        "\n",
        "train_generator = data_gen.flow_from_directory(\n",
        "    DATASET_PATH, \n",
        "    subset='training',\n",
        "    target_size = (TARGET_WIDTH, TARGET_HEIGHT),\n",
        "    batch_size = BATCH_SIZE\n",
        ")\n",
        "\n",
        "val_generator = data_gen.flow_from_directory(\n",
        "    DATASET_PATH,\n",
        "    subset='validation',\n",
        "    target_size = (TARGET_WIDTH, TARGET_HEIGHT),\n",
        "    batch_size = BATCH_SIZE\n",
        ")"
      ],
      "metadata": {
        "colab": {
          "base_uri": "https://localhost:8080/"
        },
        "id": "PkUUkj3deUQm",
        "outputId": "f3bc2ab8-d3e4-44f6-c08d-52e0283ea7c3"
      },
      "execution_count": 5,
      "outputs": [
        {
          "output_type": "stream",
          "name": "stdout",
          "text": [
            "[INFO] Setting up Data Generator...\n",
            "Found 29268 images belonging to 36 classes.\n",
            "Found 7308 images belonging to 36 classes.\n"
          ]
        }
      ]
    },
    {
      "cell_type": "code",
      "source": [
        "# Build model\n",
        "print(\"[INFO] Compiling model...\")\n",
        "alexnet = model(train_generator.num_classes, (TARGET_WIDTH, TARGET_HEIGHT, TARGET_DEPTH))\n",
        "\n",
        "# Compile the model\n",
        "alexnet.compile(optimizer='adam', loss='categorical_crossentropy', metrics=['accuracy'])"
      ],
      "metadata": {
        "colab": {
          "base_uri": "https://localhost:8080/"
        },
        "id": "ighAstzQeVal",
        "outputId": "2ee328fe-59dd-43bc-aca9-a98ba0e0d8d1"
      },
      "execution_count": 6,
      "outputs": [
        {
          "output_type": "stream",
          "name": "stdout",
          "text": [
            "[INFO] Compiling model...\n"
          ]
        }
      ]
    },
    {
      "cell_type": "code",
      "source": [
        "# Set the learning rate decay\n",
        "reduce_lr = ReduceLROnPlateau(monitor='loss', factor=0.2, patience=2, min_lr=0.001)"
      ],
      "metadata": {
        "id": "KXEG4dI5eXF5"
      },
      "execution_count": 7,
      "outputs": []
    },
    {
      "cell_type": "code",
      "source": [
        "# Train the network\n",
        "print(\"[INFO] Training network ...\")\n",
        "H = alexnet.fit_generator(\n",
        "    train_generator,\n",
        "    validation_data=val_generator,\n",
        "    steps_per_epoch=train_generator.samples // BATCH_SIZE,\n",
        "    validation_steps = val_generator.samples // BATCH_SIZE,\n",
        "    epochs=EPOCHS, verbose=1, callbacks=[reduce_lr])\n",
        "\n",
        "# save the model to disk\n",
        "print(\"[INFO] Serializing network...\")\n",
        "alexnet.save(MODEL_PATH + os.path.sep + \"trained_model\")\n",
        "\n",
        "print(\"[INFO] Done!\")"
      ],
      "metadata": {
        "colab": {
          "base_uri": "https://localhost:8080/"
        },
        "id": "6YUrnecceYUX",
        "outputId": "7567b543-c448-45cc-8d03-37c771e6f14a"
      },
      "execution_count": 8,
      "outputs": [
        {
          "output_type": "stream",
          "name": "stdout",
          "text": [
            "[INFO] Training network ...\n"
          ]
        },
        {
          "output_type": "stream",
          "name": "stderr",
          "text": [
            "<ipython-input-8-1d2021ec95e6>:3: UserWarning: `Model.fit_generator` is deprecated and will be removed in a future version. Please use `Model.fit`, which supports generators.\n",
            "  H = alexnet.fit_generator(\n"
          ]
        },
        {
          "output_type": "stream",
          "name": "stdout",
          "text": [
            "Epoch 1/20\n",
            "228/228 [==============================] - 41s 109ms/step - loss: 1.9446 - accuracy: 0.4477 - val_loss: 0.3022 - val_accuracy: 0.9121 - lr: 0.0010\n",
            "Epoch 2/20\n",
            "228/228 [==============================] - 22s 98ms/step - loss: 0.3360 - accuracy: 0.9058 - val_loss: 0.1667 - val_accuracy: 0.9496 - lr: 0.0010\n",
            "Epoch 3/20\n",
            "228/228 [==============================] - 23s 102ms/step - loss: 0.1982 - accuracy: 0.9394 - val_loss: 0.1746 - val_accuracy: 0.9539 - lr: 0.0010\n",
            "Epoch 4/20\n",
            "228/228 [==============================] - 23s 101ms/step - loss: 0.1580 - accuracy: 0.9514 - val_loss: 0.1833 - val_accuracy: 0.9379 - lr: 0.0010\n",
            "Epoch 5/20\n",
            "228/228 [==============================] - 23s 100ms/step - loss: 0.1377 - accuracy: 0.9573 - val_loss: 0.1713 - val_accuracy: 0.9570 - lr: 0.0010\n",
            "Epoch 6/20\n",
            "228/228 [==============================] - 23s 102ms/step - loss: 0.1157 - accuracy: 0.9630 - val_loss: 0.2105 - val_accuracy: 0.9557 - lr: 0.0010\n",
            "Epoch 7/20\n",
            "228/228 [==============================] - 23s 100ms/step - loss: 0.1205 - accuracy: 0.9625 - val_loss: 0.2040 - val_accuracy: 0.9560 - lr: 0.0010\n",
            "Epoch 8/20\n",
            "228/228 [==============================] - 23s 102ms/step - loss: 0.0968 - accuracy: 0.9696 - val_loss: 0.2244 - val_accuracy: 0.9515 - lr: 0.0010\n",
            "Epoch 9/20\n",
            "228/228 [==============================] - 23s 99ms/step - loss: 0.0955 - accuracy: 0.9693 - val_loss: 0.1782 - val_accuracy: 0.9568 - lr: 0.0010\n",
            "Epoch 10/20\n",
            "228/228 [==============================] - 23s 102ms/step - loss: 0.0825 - accuracy: 0.9726 - val_loss: 0.2523 - val_accuracy: 0.9492 - lr: 0.0010\n",
            "Epoch 11/20\n",
            "228/228 [==============================] - 22s 95ms/step - loss: 0.0922 - accuracy: 0.9715 - val_loss: 0.2313 - val_accuracy: 0.9549 - lr: 0.0010\n",
            "Epoch 12/20\n",
            "228/228 [==============================] - 23s 101ms/step - loss: 0.0995 - accuracy: 0.9698 - val_loss: 0.2133 - val_accuracy: 0.9590 - lr: 0.0010\n",
            "Epoch 13/20\n",
            "228/228 [==============================] - 23s 99ms/step - loss: 0.0878 - accuracy: 0.9734 - val_loss: 0.2127 - val_accuracy: 0.9574 - lr: 0.0010\n",
            "Epoch 14/20\n",
            "228/228 [==============================] - 21s 93ms/step - loss: 0.0868 - accuracy: 0.9743 - val_loss: 0.2609 - val_accuracy: 0.9518 - lr: 0.0010\n",
            "Epoch 15/20\n",
            "228/228 [==============================] - 22s 98ms/step - loss: 0.0999 - accuracy: 0.9702 - val_loss: 0.2393 - val_accuracy: 0.9507 - lr: 0.0010\n",
            "Epoch 16/20\n",
            "228/228 [==============================] - 23s 100ms/step - loss: 0.0884 - accuracy: 0.9741 - val_loss: 0.2434 - val_accuracy: 0.9579 - lr: 0.0010\n",
            "Epoch 17/20\n",
            "228/228 [==============================] - 23s 100ms/step - loss: 0.0814 - accuracy: 0.9754 - val_loss: 0.2332 - val_accuracy: 0.9571 - lr: 0.0010\n",
            "Epoch 18/20\n",
            "228/228 [==============================] - 23s 99ms/step - loss: 0.0808 - accuracy: 0.9774 - val_loss: 0.3070 - val_accuracy: 0.9538 - lr: 0.0010\n",
            "Epoch 19/20\n",
            "228/228 [==============================] - 23s 100ms/step - loss: 0.0992 - accuracy: 0.9731 - val_loss: 0.1999 - val_accuracy: 0.9579 - lr: 0.0010\n",
            "Epoch 20/20\n",
            "228/228 [==============================] - 23s 101ms/step - loss: 0.1194 - accuracy: 0.9688 - val_loss: 0.1925 - val_accuracy: 0.9576 - lr: 0.0010\n",
            "[INFO] Serializing network...\n"
          ]
        },
        {
          "output_type": "stream",
          "name": "stderr",
          "text": [
            "WARNING:absl:Found untraced functions such as _jit_compiled_convolution_op, _jit_compiled_convolution_op, _jit_compiled_convolution_op, _jit_compiled_convolution_op, _jit_compiled_convolution_op while saving (showing 5 of 5). These functions will not be directly callable after loading.\n"
          ]
        },
        {
          "output_type": "stream",
          "name": "stdout",
          "text": [
            "[INFO] Done!\n"
          ]
        }
      ]
    },
    {
      "cell_type": "markdown",
      "source": [
        "# Prediction"
      ],
      "metadata": {
        "id": "KDx1XOcT096y"
      }
    },
    {
      "cell_type": "markdown",
      "source": [
        "Downloading Sample test data.\n",
        "\n"
      ],
      "metadata": {
        "id": "_58ZhH9e4QlB"
      }
    },
    {
      "cell_type": "code",
      "source": [
        "!wget https://raw.githubusercontent.com/Lienkaiyu/AlexNet-CharactersRecognition-colab/master/test1.png\n",
        "!wget https://raw.githubusercontent.com/Lienkaiyu/AlexNet-CharactersRecognition-colab/master/test2.png\n",
        "!wget https://raw.githubusercontent.com/Lienkaiyu/AlexNet-CharactersRecognition-colab/master/test3.png\n",
        "!wget https://raw.githubusercontent.com/Lienkaiyu/AlexNet-CharactersRecognition-colab/master/test4.png"
      ],
      "metadata": {
        "colab": {
          "base_uri": "https://localhost:8080/"
        },
        "id": "lK5Pxjv903k2",
        "outputId": "6badda2e-936c-49f8-bf4b-00e754010a44"
      },
      "execution_count": 9,
      "outputs": [
        {
          "output_type": "stream",
          "name": "stdout",
          "text": [
            "--2022-12-04 12:22:11--  https://raw.githubusercontent.com/Lienkaiyu/AlexNet-CharactersRecognition-colab/master/test1.png\n",
            "Resolving raw.githubusercontent.com (raw.githubusercontent.com)... 185.199.108.133, 185.199.109.133, 185.199.110.133, ...\n",
            "Connecting to raw.githubusercontent.com (raw.githubusercontent.com)|185.199.108.133|:443... connected.\n",
            "HTTP request sent, awaiting response... 200 OK\n",
            "Length: 8975 (8.8K) [image/png]\n",
            "Saving to: ‘test1.png’\n",
            "\n",
            "test1.png           100%[===================>]   8.76K  --.-KB/s    in 0s      \n",
            "\n",
            "2022-12-04 12:22:11 (87.2 MB/s) - ‘test1.png’ saved [8975/8975]\n",
            "\n",
            "--2022-12-04 12:22:11--  https://raw.githubusercontent.com/Lienkaiyu/AlexNet-CharactersRecognition-colab/master/test2.png\n",
            "Resolving raw.githubusercontent.com (raw.githubusercontent.com)... 185.199.108.133, 185.199.111.133, 185.199.110.133, ...\n",
            "Connecting to raw.githubusercontent.com (raw.githubusercontent.com)|185.199.108.133|:443... connected.\n",
            "HTTP request sent, awaiting response... 200 OK\n",
            "Length: 9722 (9.5K) [image/png]\n",
            "Saving to: ‘test2.png’\n",
            "\n",
            "test2.png           100%[===================>]   9.49K  --.-KB/s    in 0s      \n",
            "\n",
            "2022-12-04 12:22:11 (86.0 MB/s) - ‘test2.png’ saved [9722/9722]\n",
            "\n",
            "--2022-12-04 12:22:11--  https://raw.githubusercontent.com/Lienkaiyu/AlexNet-CharactersRecognition-colab/master/test3.png\n",
            "Resolving raw.githubusercontent.com (raw.githubusercontent.com)... 185.199.108.133, 185.199.109.133, 185.199.110.133, ...\n",
            "Connecting to raw.githubusercontent.com (raw.githubusercontent.com)|185.199.108.133|:443... connected.\n",
            "HTTP request sent, awaiting response... 200 OK\n",
            "Length: 6753 (6.6K) [image/png]\n",
            "Saving to: ‘test3.png’\n",
            "\n",
            "test3.png           100%[===================>]   6.59K  --.-KB/s    in 0s      \n",
            "\n",
            "2022-12-04 12:22:11 (87.0 MB/s) - ‘test3.png’ saved [6753/6753]\n",
            "\n",
            "--2022-12-04 12:22:11--  https://raw.githubusercontent.com/Lienkaiyu/AlexNet-CharactersRecognition-colab/master/test4.png\n",
            "Resolving raw.githubusercontent.com (raw.githubusercontent.com)... 185.199.108.133, 185.199.109.133, 185.199.110.133, ...\n",
            "Connecting to raw.githubusercontent.com (raw.githubusercontent.com)|185.199.108.133|:443... connected.\n",
            "HTTP request sent, awaiting response... 200 OK\n",
            "Length: 8833 (8.6K) [image/png]\n",
            "Saving to: ‘test4.png’\n",
            "\n",
            "test4.png           100%[===================>]   8.63K  --.-KB/s    in 0s      \n",
            "\n",
            "2022-12-04 12:22:12 (65.4 MB/s) - ‘test4.png’ saved [8833/8833]\n",
            "\n"
          ]
        }
      ]
    },
    {
      "cell_type": "code",
      "source": [
        "import argparse\n",
        "import numpy as np\n",
        "from keras.models import load_model\n",
        "#from keras.preprocessing.image import img_to_array\n",
        "from tensorflow.keras.utils import img_to_array, array_to_img\n",
        "import cv2\n",
        "import matplotlib.pyplot as plt \n",
        "\n",
        "# Construct the argument parse and parse the arguments\n",
        "#ap = argparse.ArgumentParser()\n",
        "#ap.add_argument(\"-i\", \"--image\", required=True, help=\"path to input image\")\n",
        "#args = vars(ap.parse_args())\n",
        "\n",
        "labels = [\n",
        "    '0','1','2','3','4','5','6','7','8','9','A','B','C','D','E','F','G',\n",
        "    'H','I','J','K','L','M','N','O','P','Q','R','S','T','U','V','W','X','Y','Z'\n",
        "    ]\n",
        "\n",
        "# Define constants\n",
        "TARGET_WIDTH = 128\n",
        "TARGET_HEIGHT = 128\n",
        "MODEL_PATH = './trained_model'\n",
        "\n",
        "\n",
        "def predict(IMG, Plt_location = 1):\n",
        "  # Load the image\n",
        "  #original_image = cv2.imread(args[\"image\"])\n",
        "  original_image = cv2.imread(IMG)\n",
        "\n",
        "\n",
        "  # Preprocessing the image\n",
        "  image = cv2.resize(original_image, (TARGET_WIDTH, TARGET_HEIGHT))\n",
        "  image = image.astype(\"float\") / 255.0\n",
        "  image = img_to_array(image)\n",
        "  image = np.expand_dims(image, axis=0)\n",
        "\n",
        "  # Load the trained convolutional neural network\n",
        "  print(\"[INFO] Loading my model...\")\n",
        "  model = load_model(MODEL_PATH, compile=False)\n",
        "\n",
        "  # Classify the input image then find the index of the class with the *largest* probability\n",
        "  print(\"[INFO] Classifying image...\")\n",
        "  prob = model.predict(image)[0]\n",
        "  idx = np.argsort(prob)[-1]\n",
        "\n",
        "  plt.figure(figsize=(10,10))\n",
        "\n",
        "  # Display original image\n",
        "  #cv2.imshow(\"Original Image\", original_image)\n",
        "  #cv2.imwrite(\"result.jpg\", original_image)\n",
        "  #plt.subplot(121)\n",
        "  #plt.imshow(original_image)  \n",
        "\n",
        "\n",
        "  #cv2.waitKey(0);\n",
        "\n",
        "  # Display the predicted image\n",
        "  cv2.putText(original_image, 'Character is ' + labels[idx], \n",
        "      (10, 100), \n",
        "      cv2.FONT_HERSHEY_SIMPLEX, \n",
        "      2,\n",
        "      (255,0,255),\n",
        "      2)\n",
        "  #cv2.imshow(\"Recognised Image\", original_image)\n",
        "  #cv2.imwrite(\"result.jpg\", original_image)\n",
        "  #plt.subplot(2,2,Plt_location)\n",
        "  plt.imshow(original_image)  \n",
        "  #cv2.waitKey(0)\n",
        "  del idx"
      ],
      "metadata": {
        "id": "1HefEBIfeaI-"
      },
      "execution_count": 10,
      "outputs": []
    },
    {
      "cell_type": "code",
      "source": [
        "predict(\"test1.png\",1)\n",
        "predict(\"test2.png\",2)\n",
        "predict(\"test3.png\",3)\n",
        "predict(\"test4.png\",4)"
      ],
      "metadata": {
        "colab": {
          "base_uri": "https://localhost:8080/",
          "height": 1000
        },
        "id": "P-4PNU4C-usC",
        "outputId": "a8626ac8-1491-4deb-c3fa-aa2d13387d6e"
      },
      "execution_count": 11,
      "outputs": [
        {
          "output_type": "stream",
          "name": "stdout",
          "text": [
            "[INFO] Loading my model...\n",
            "[INFO] Classifying image...\n",
            "1/1 [==============================] - 0s 293ms/step\n",
            "[INFO] Loading my model...\n",
            "[INFO] Classifying image...\n",
            "1/1 [==============================] - 0s 96ms/step\n",
            "[INFO] Loading my model...\n",
            "[INFO] Classifying image...\n",
            "1/1 [==============================] - 0s 114ms/step\n",
            "[INFO] Loading my model...\n",
            "[INFO] Classifying image...\n",
            "1/1 [==============================] - 0s 97ms/step\n"
          ]
        },
        {
          "output_type": "display_data",
          "data": {
            "text/plain": [
              "<Figure size 720x720 with 1 Axes>"
            ],
            "image/png": "[encoded data removed]"
          },
          "metadata": {
            "needs_background": "light"
          }
        },
        {
          "output_type": "display_data",
          "data": {
            "text/plain": [
              "<Figure size 720x720 with 1 Axes>"
            ],
            "image/png": "[encoded data removed]"
          },
          "metadata": {
            "needs_background": "light"
          }
        },
        {
          "output_type": "display_data",
          "data": {
            "text/plain": [
              "<Figure size 720x720 with 1 Axes>"
            ],
            "image/png": "[encoded data removed]"
          },
          "metadata": {
            "needs_background": "light"
          }
        },
        {
          "output_type": "display_data",
          "data": {
            "text/plain": [
              "<Figure size 720x720 with 1 Axes>"
            ],
            "image/png": "[encoded data removed]"
          },
          "metadata": {
            "needs_background": "light"
          }
        }
      ]
    }
  ]
}